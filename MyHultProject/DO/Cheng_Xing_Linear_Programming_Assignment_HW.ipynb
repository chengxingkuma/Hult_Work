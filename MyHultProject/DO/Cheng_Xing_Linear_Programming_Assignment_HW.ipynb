{
 "cells": [
  {
   "cell_type": "code",
   "execution_count": 6,
   "id": "veterinary-classroom",
   "metadata": {},
   "outputs": [],
   "source": [
    "#import the fuction\n",
    "\n",
    "import pulp\n",
    "import pandas as pd # had to import pandas to print nicely below\n"
   ]
  },
  {
   "cell_type": "code",
   "execution_count": 14,
   "id": "acknowledged-variation",
   "metadata": {},
   "outputs": [],
   "source": [
    "#set the variables\n",
    "\n",
    "BagsRUs_02 = pulp.LpProblem(\"BagsRUS\", pulp.LpMaximize)\n",
    "\n",
    "S = pulp.LpVariable('Standard_Bags', lowBound=0, cat='Integer')\n",
    "D = pulp.LpVariable('Deluxe_Bags', lowBound=0, cat='Integer')\n",
    "N = pulp.LpVariable('New_Bags', lowBound=0, cat='Integer')\n",
    "\n",
    "CS = pulp.LpVariable('cutting out for sewing', lowBound=0,cat='Continuous')\n",
    "CF = pulp.LpVariable('cutting out for finishing', lowBound=0, cat='Continuous')\n",
    "CI = pulp.LpVariable('cutting out for inspection', lowBound=0, cat='Continuous')\n",
    "\n",
    "\n",
    "SC = pulp.LpVariable('sewing out for cutting', lowBound=0, cat='Continuous')\n",
    "SF = pulp.LpVariable('sewing out for finishing', lowBound=0, cat='Continuous')\n",
    "SI = pulp.LpVariable('sewing out for inspection', lowBound=0, cat='Continuous')\n",
    "\n",
    "FC = pulp.LpVariable('finishing out for cutting', lowBound=0, cat='Continuous')\n",
    "FS = pulp.LpVariable('finishing out for sewing', lowBound=0, cat='Continuous')\n",
    "FI = pulp.LpVariable('finishing out for inspection', lowBound=0, cat='Continuous')\n",
    "\n",
    "IC = pulp.LpVariable('inspection out for cutting', lowBound=0, cat='Continuous')\n",
    "IS = pulp.LpVariable('inspection out for sewing', lowBound=0, cat='Continuous')\n",
    "IF = pulp.LpVariable('inspection out for finishing', lowBound=0, cat='Continuous')\n"
   ]
  },
  {
   "cell_type": "code",
   "execution_count": null,
   "id": "horizontal-sally",
   "metadata": {},
   "outputs": [],
   "source": [
    "#If change the LowBound to negative number\n",
    "#CS = pulp.LpVariable('cutting out for sewing', lowBound=-1000,cat='Continuous')\n",
    "#CF = pulp.LpVariable('cutting out for finishing', lowBound=-1000, cat='Continuous')\n",
    "#CI = pulp.LpVariable('cutting out for inspection', lowBound=-1000, cat='Continuous')"
   ]
  },
  {
   "cell_type": "code",
   "execution_count": 15,
   "id": "proved-dialogue",
   "metadata": {},
   "outputs": [
    {
     "name": "stdout",
     "output_type": "stream",
     "text": [
      "Optimal\n",
      "Deluxe_Bags = 872.0\n",
      "New_Bags = 2.0\n",
      "Standard_Bags = 0.0\n",
      "cutting_out_for_finishing = 0.0\n",
      "cutting_out_for_inspection = 0.0\n",
      "cutting_out_for_sewing = 0.0\n",
      "finishing_out_for_cutting = 105.15873\n",
      "finishing_out_for_inspection = 20.555556\n",
      "finishing_out_for_sewing = 40.952381\n",
      "inspection_out_for_cutting = 0.0\n",
      "inspection_out_for_finishing = 0.0\n",
      "inspection_out_for_sewing = 0.0\n",
      "sewing_out_for_cutting = 0.0\n",
      "sewing_out_for_finishing = 0.0\n",
      "sewing_out_for_inspection = 0.0\n",
      "11364.0\n",
      "  name  shadow price    slack\n",
      "0  _C1          -0.0  0.01111\n",
      "1  _C2          -0.0 -0.00000\n",
      "2  _C3          -0.0 -0.00000\n",
      "3  _C4          -0.0 -0.00000\n"
     ]
    }
   ],
   "source": [
    "# Objective function\n",
    "BagsRUs_02 += 10 *S + 13 * D + 14 * N, \"Profits\"\n",
    "\n",
    "# Constraints\n",
    "BagsRUs_02 += 4/5*S + D + 4/5*N + CS + CF + CI - 0.8*SC - 0.7*FC - 0.6*IC <= 800\n",
    "BagsRUs_02 += 1/2*S + 5/6*D + N + SC + SF + SI - 0.8*CS - 0.7*FS - 0.6*IS <= 700\n",
    "BagsRUs_02 += S + 2/3*D + N     + FC + FS + FI - 0.6*CF - 0.6*SF - 0.9*IF <= 750\n",
    "BagsRUs_02 += 1/10*S + 1/4*D + 1/4*N + IC + IS + IF - 0.5*CI - 0.5*SI - 0.9*FI <= 200\n",
    "\n",
    "\n",
    "BagsRUs_02.solve()\n",
    "print(pulp.LpStatus[BagsRUs_02.status])\n",
    "\n",
    "for variable in BagsRUs_02.variables():\n",
    "    print(\"{} = {}\".format(variable.name, variable.varValue))\n",
    "    \n",
    "print(pulp.value(BagsRUs_02.objective))\n",
    "\n",
    "\n",
    "sensitivity_report = [{'name':name, 'shadow price':c.pi, 'slack': c.slack}\n",
    "for name, c in BagsRUs_02.constraints.items()]\n",
    "\n",
    "print(pd.DataFrame(sensitivity_report))\n",
    "\n"
   ]
  },
  {
   "cell_type": "code",
   "execution_count": null,
   "id": "grateful-formula",
   "metadata": {},
   "outputs": [],
   "source": []
  }
 ],
 "metadata": {
  "kernelspec": {
   "display_name": "Python 3",
   "language": "python",
   "name": "python3"
  },
  "language_info": {
   "codemirror_mode": {
    "name": "ipython",
    "version": 3
   },
   "file_extension": ".py",
   "mimetype": "text/x-python",
   "name": "python",
   "nbconvert_exporter": "python",
   "pygments_lexer": "ipython3",
   "version": "3.8.5"
  },
  "toc": {
   "base_numbering": 1,
   "nav_menu": {},
   "number_sections": true,
   "sideBar": true,
   "skip_h1_title": false,
   "title_cell": "Table of Contents",
   "title_sidebar": "Contents",
   "toc_cell": false,
   "toc_position": {},
   "toc_section_display": true,
   "toc_window_display": false
  },
  "varInspector": {
   "cols": {
    "lenName": 16,
    "lenType": 16,
    "lenVar": 40
   },
   "kernels_config": {
    "python": {
     "delete_cmd_postfix": "",
     "delete_cmd_prefix": "del ",
     "library": "var_list.py",
     "varRefreshCmd": "print(var_dic_list())"
    },
    "r": {
     "delete_cmd_postfix": ") ",
     "delete_cmd_prefix": "rm(",
     "library": "var_list.r",
     "varRefreshCmd": "cat(var_dic_list()) "
    }
   },
   "types_to_exclude": [
    "module",
    "function",
    "builtin_function_or_method",
    "instance",
    "_Feature"
   ],
   "window_display": false
  }
 },
 "nbformat": 4,
 "nbformat_minor": 5
}
